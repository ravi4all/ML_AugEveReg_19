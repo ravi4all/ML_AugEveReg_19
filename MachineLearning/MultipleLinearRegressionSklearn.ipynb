{
 "cells": [
  {
   "cell_type": "code",
   "execution_count": 41,
   "metadata": {},
   "outputs": [],
   "source": [
    "import pandas as pd\n",
    "import numpy as np\n",
    "from sklearn.preprocessing import StandardScaler, LabelEncoder, OneHotEncoder\n",
    "from sklearn.linear_model import LinearRegression"
   ]
  },
  {
   "cell_type": "code",
   "execution_count": 42,
   "metadata": {},
   "outputs": [],
   "source": [
    "data = pd.read_excel('train.xlsx')"
   ]
  },
  {
   "cell_type": "code",
   "execution_count": 43,
   "metadata": {},
   "outputs": [
    {
     "data": {
      "text/plain": [
       "(3998, 39)"
      ]
     },
     "execution_count": 43,
     "metadata": {},
     "output_type": "execute_result"
    }
   ],
   "source": [
    "data.shape"
   ]
  },
  {
   "cell_type": "code",
   "execution_count": 44,
   "metadata": {},
   "outputs": [
    {
     "data": {
      "text/html": [
       "<div>\n",
       "<style scoped>\n",
       "    .dataframe tbody tr th:only-of-type {\n",
       "        vertical-align: middle;\n",
       "    }\n",
       "\n",
       "    .dataframe tbody tr th {\n",
       "        vertical-align: top;\n",
       "    }\n",
       "\n",
       "    .dataframe thead th {\n",
       "        text-align: right;\n",
       "    }\n",
       "</style>\n",
       "<table border=\"1\" class=\"dataframe\">\n",
       "  <thead>\n",
       "    <tr style=\"text-align: right;\">\n",
       "      <th></th>\n",
       "      <th>Unnamed: 0</th>\n",
       "      <th>ID</th>\n",
       "      <th>Salary</th>\n",
       "      <th>DOJ</th>\n",
       "      <th>DOL</th>\n",
       "      <th>Designation</th>\n",
       "      <th>JobCity</th>\n",
       "      <th>Gender</th>\n",
       "      <th>DOB</th>\n",
       "      <th>10percentage</th>\n",
       "      <th>...</th>\n",
       "      <th>ComputerScience</th>\n",
       "      <th>MechanicalEngg</th>\n",
       "      <th>ElectricalEngg</th>\n",
       "      <th>TelecomEngg</th>\n",
       "      <th>CivilEngg</th>\n",
       "      <th>conscientiousness</th>\n",
       "      <th>agreeableness</th>\n",
       "      <th>extraversion</th>\n",
       "      <th>nueroticism</th>\n",
       "      <th>openess_to_experience</th>\n",
       "    </tr>\n",
       "  </thead>\n",
       "  <tbody>\n",
       "    <tr>\n",
       "      <th>0</th>\n",
       "      <td>train</td>\n",
       "      <td>203097</td>\n",
       "      <td>420000</td>\n",
       "      <td>2012-06-01</td>\n",
       "      <td>present</td>\n",
       "      <td>senior quality engineer</td>\n",
       "      <td>Bangalore</td>\n",
       "      <td>f</td>\n",
       "      <td>1990-02-19</td>\n",
       "      <td>84.3</td>\n",
       "      <td>...</td>\n",
       "      <td>-1</td>\n",
       "      <td>-1</td>\n",
       "      <td>-1</td>\n",
       "      <td>-1</td>\n",
       "      <td>-1</td>\n",
       "      <td>0.9737</td>\n",
       "      <td>0.8128</td>\n",
       "      <td>0.5269</td>\n",
       "      <td>1.35490</td>\n",
       "      <td>-0.4455</td>\n",
       "    </tr>\n",
       "    <tr>\n",
       "      <th>1</th>\n",
       "      <td>train</td>\n",
       "      <td>579905</td>\n",
       "      <td>500000</td>\n",
       "      <td>2013-09-01</td>\n",
       "      <td>present</td>\n",
       "      <td>assistant manager</td>\n",
       "      <td>Indore</td>\n",
       "      <td>m</td>\n",
       "      <td>1989-10-04</td>\n",
       "      <td>85.4</td>\n",
       "      <td>...</td>\n",
       "      <td>-1</td>\n",
       "      <td>-1</td>\n",
       "      <td>-1</td>\n",
       "      <td>-1</td>\n",
       "      <td>-1</td>\n",
       "      <td>-0.7335</td>\n",
       "      <td>0.3789</td>\n",
       "      <td>1.2396</td>\n",
       "      <td>-0.10760</td>\n",
       "      <td>0.8637</td>\n",
       "    </tr>\n",
       "    <tr>\n",
       "      <th>2</th>\n",
       "      <td>train</td>\n",
       "      <td>810601</td>\n",
       "      <td>325000</td>\n",
       "      <td>2014-06-01</td>\n",
       "      <td>present</td>\n",
       "      <td>systems engineer</td>\n",
       "      <td>Chennai</td>\n",
       "      <td>f</td>\n",
       "      <td>1992-08-03</td>\n",
       "      <td>85.0</td>\n",
       "      <td>...</td>\n",
       "      <td>-1</td>\n",
       "      <td>-1</td>\n",
       "      <td>-1</td>\n",
       "      <td>-1</td>\n",
       "      <td>-1</td>\n",
       "      <td>0.2718</td>\n",
       "      <td>1.7109</td>\n",
       "      <td>0.1637</td>\n",
       "      <td>-0.86820</td>\n",
       "      <td>0.6721</td>\n",
       "    </tr>\n",
       "    <tr>\n",
       "      <th>3</th>\n",
       "      <td>train</td>\n",
       "      <td>267447</td>\n",
       "      <td>1100000</td>\n",
       "      <td>2011-07-01</td>\n",
       "      <td>present</td>\n",
       "      <td>senior software engineer</td>\n",
       "      <td>Gurgaon</td>\n",
       "      <td>m</td>\n",
       "      <td>1989-12-05</td>\n",
       "      <td>85.6</td>\n",
       "      <td>...</td>\n",
       "      <td>-1</td>\n",
       "      <td>-1</td>\n",
       "      <td>-1</td>\n",
       "      <td>-1</td>\n",
       "      <td>-1</td>\n",
       "      <td>0.0464</td>\n",
       "      <td>0.3448</td>\n",
       "      <td>-0.3440</td>\n",
       "      <td>-0.40780</td>\n",
       "      <td>-0.9194</td>\n",
       "    </tr>\n",
       "    <tr>\n",
       "      <th>4</th>\n",
       "      <td>train</td>\n",
       "      <td>343523</td>\n",
       "      <td>200000</td>\n",
       "      <td>2014-03-01</td>\n",
       "      <td>2015-03-01 00:00:00</td>\n",
       "      <td>get</td>\n",
       "      <td>Manesar</td>\n",
       "      <td>m</td>\n",
       "      <td>1991-02-27</td>\n",
       "      <td>78.0</td>\n",
       "      <td>...</td>\n",
       "      <td>-1</td>\n",
       "      <td>-1</td>\n",
       "      <td>-1</td>\n",
       "      <td>-1</td>\n",
       "      <td>-1</td>\n",
       "      <td>-0.8810</td>\n",
       "      <td>-0.2793</td>\n",
       "      <td>-1.0697</td>\n",
       "      <td>0.09163</td>\n",
       "      <td>-0.1295</td>\n",
       "    </tr>\n",
       "  </tbody>\n",
       "</table>\n",
       "<p>5 rows × 39 columns</p>\n",
       "</div>"
      ],
      "text/plain": [
       "  Unnamed: 0      ID   Salary        DOJ                  DOL  \\\n",
       "0      train  203097   420000 2012-06-01              present   \n",
       "1      train  579905   500000 2013-09-01              present   \n",
       "2      train  810601   325000 2014-06-01              present   \n",
       "3      train  267447  1100000 2011-07-01              present   \n",
       "4      train  343523   200000 2014-03-01  2015-03-01 00:00:00   \n",
       "\n",
       "                Designation    JobCity Gender        DOB  10percentage  ...  \\\n",
       "0   senior quality engineer  Bangalore      f 1990-02-19          84.3  ...   \n",
       "1         assistant manager     Indore      m 1989-10-04          85.4  ...   \n",
       "2          systems engineer    Chennai      f 1992-08-03          85.0  ...   \n",
       "3  senior software engineer    Gurgaon      m 1989-12-05          85.6  ...   \n",
       "4                       get    Manesar      m 1991-02-27          78.0  ...   \n",
       "\n",
       "  ComputerScience  MechanicalEngg  ElectricalEngg TelecomEngg  CivilEngg  \\\n",
       "0              -1              -1              -1          -1         -1   \n",
       "1              -1              -1              -1          -1         -1   \n",
       "2              -1              -1              -1          -1         -1   \n",
       "3              -1              -1              -1          -1         -1   \n",
       "4              -1              -1              -1          -1         -1   \n",
       "\n",
       "   conscientiousness agreeableness extraversion  nueroticism  \\\n",
       "0             0.9737        0.8128       0.5269      1.35490   \n",
       "1            -0.7335        0.3789       1.2396     -0.10760   \n",
       "2             0.2718        1.7109       0.1637     -0.86820   \n",
       "3             0.0464        0.3448      -0.3440     -0.40780   \n",
       "4            -0.8810       -0.2793      -1.0697      0.09163   \n",
       "\n",
       "   openess_to_experience  \n",
       "0                -0.4455  \n",
       "1                 0.8637  \n",
       "2                 0.6721  \n",
       "3                -0.9194  \n",
       "4                -0.1295  \n",
       "\n",
       "[5 rows x 39 columns]"
      ]
     },
     "execution_count": 44,
     "metadata": {},
     "output_type": "execute_result"
    }
   ],
   "source": [
    "data.head()"
   ]
  },
  {
   "cell_type": "code",
   "execution_count": 45,
   "metadata": {},
   "outputs": [],
   "source": [
    "# pd.unique(data['Specialization'])"
   ]
  },
  {
   "cell_type": "code",
   "execution_count": 46,
   "metadata": {},
   "outputs": [
    {
     "data": {
      "text/plain": [
       "Index(['Unnamed: 0', 'ID', 'Salary', 'DOJ', 'DOL', 'Designation', 'JobCity',\n",
       "       'Gender', 'DOB', '10percentage', '10board', '12graduation',\n",
       "       '12percentage', '12board', 'CollegeID', 'CollegeTier', 'Degree',\n",
       "       'Specialization', 'collegeGPA', 'CollegeCityID', 'CollegeCityTier',\n",
       "       'CollegeState', 'GraduationYear', 'English', 'Logical', 'Quant',\n",
       "       'Domain', 'ComputerProgramming', 'ElectronicsAndSemicon',\n",
       "       'ComputerScience', 'MechanicalEngg', 'ElectricalEngg', 'TelecomEngg',\n",
       "       'CivilEngg', 'conscientiousness', 'agreeableness', 'extraversion',\n",
       "       'nueroticism', 'openess_to_experience'],\n",
       "      dtype='object')"
      ]
     },
     "execution_count": 46,
     "metadata": {},
     "output_type": "execute_result"
    }
   ],
   "source": [
    "data.columns"
   ]
  },
  {
   "cell_type": "code",
   "execution_count": 47,
   "metadata": {},
   "outputs": [],
   "source": [
    "encoder = LabelEncoder()\n",
    "data['Gender'] = encoder.fit_transform(data['Gender'])"
   ]
  },
  {
   "cell_type": "code",
   "execution_count": 110,
   "metadata": {},
   "outputs": [],
   "source": [
    "X = data.iloc[:,[7,9,12,15,16,18,23,24,25]].values\n",
    "y = data['Salary'].values"
   ]
  },
  {
   "cell_type": "code",
   "execution_count": 111,
   "metadata": {},
   "outputs": [],
   "source": [
    "X[:,4] = encoder.fit_transform(X[:,4])"
   ]
  },
  {
   "cell_type": "code",
   "execution_count": 112,
   "metadata": {},
   "outputs": [
    {
     "data": {
      "text/plain": [
       "(3998, 9)"
      ]
     },
     "execution_count": 112,
     "metadata": {},
     "output_type": "execute_result"
    }
   ],
   "source": [
    "X.shape"
   ]
  },
  {
   "cell_type": "code",
   "execution_count": 113,
   "metadata": {},
   "outputs": [
    {
     "data": {
      "text/plain": [
       "array([0, 84.3, 95.8, 2, 0, 78.0, 515, 585, 525], dtype=object)"
      ]
     },
     "execution_count": 113,
     "metadata": {},
     "output_type": "execute_result"
    }
   ],
   "source": [
    "X[0]"
   ]
  },
  {
   "cell_type": "code",
   "execution_count": 114,
   "metadata": {},
   "outputs": [],
   "source": [
    "col_1 = X[:,4]"
   ]
  },
  {
   "cell_type": "code",
   "execution_count": 115,
   "metadata": {},
   "outputs": [],
   "source": [
    "col_1 = col_1.reshape(-1,1)"
   ]
  },
  {
   "cell_type": "code",
   "execution_count": 116,
   "metadata": {},
   "outputs": [],
   "source": [
    "# onehot = OneHotEncoder(sparse=False,categorical_features=[4])\n",
    "onehot = OneHotEncoder()"
   ]
  },
  {
   "cell_type": "code",
   "execution_count": 117,
   "metadata": {},
   "outputs": [
    {
     "name": "stderr",
     "output_type": "stream",
     "text": [
      "C:\\Users\\asus\\Anaconda3\\lib\\site-packages\\sklearn\\preprocessing\\_encoders.py:371: FutureWarning: The handling of integer data will change in version 0.22. Currently, the categories are determined based on the range [0, max(values)], while in the future they will be determined based on the unique values.\n",
      "If you want the future behaviour and silence this warning, you can specify \"categories='auto'\".\n",
      "In case you used a LabelEncoder before this OneHotEncoder to convert the categories to integers, then you can now use the OneHotEncoder directly.\n",
      "  warnings.warn(msg, FutureWarning)\n"
     ]
    }
   ],
   "source": [
    "X = onehot.fit_transform(X)"
   ]
  },
  {
   "cell_type": "code",
   "execution_count": 118,
   "metadata": {},
   "outputs": [
    {
     "data": {
      "text/plain": [
       "<1x529 sparse matrix of type '<class 'numpy.float64'>'\n",
       "\twith 9 stored elements in Compressed Sparse Row format>"
      ]
     },
     "execution_count": 118,
     "metadata": {},
     "output_type": "execute_result"
    }
   ],
   "source": [
    "X[0]"
   ]
  },
  {
   "cell_type": "code",
   "execution_count": 120,
   "metadata": {},
   "outputs": [],
   "source": [
    "# sc = StandardScaler()\n",
    "# X = sc.fit_transform(X)"
   ]
  },
  {
   "cell_type": "code",
   "execution_count": 121,
   "metadata": {},
   "outputs": [],
   "source": [
    "y = data['Salary'].values"
   ]
  },
  {
   "cell_type": "code",
   "execution_count": 122,
   "metadata": {},
   "outputs": [
    {
     "name": "stderr",
     "output_type": "stream",
     "text": [
      "C:\\Users\\asus\\Anaconda3\\lib\\site-packages\\sklearn\\utils\\validation.py:595: DataConversionWarning: Data with input dtype int64 was converted to float64 by StandardScaler.\n",
      "  warnings.warn(msg, DataConversionWarning)\n",
      "C:\\Users\\asus\\Anaconda3\\lib\\site-packages\\sklearn\\utils\\validation.py:595: DataConversionWarning: Data with input dtype int64 was converted to float64 by StandardScaler.\n",
      "  warnings.warn(msg, DataConversionWarning)\n"
     ]
    }
   ],
   "source": [
    "y = y.reshape(-1,1)\n",
    "y = sc.fit_transform(y)"
   ]
  },
  {
   "cell_type": "code",
   "execution_count": 123,
   "metadata": {},
   "outputs": [
    {
     "data": {
      "text/plain": [
       "<1x529 sparse matrix of type '<class 'numpy.float64'>'\n",
       "\twith 9 stored elements in Compressed Sparse Row format>"
      ]
     },
     "execution_count": 123,
     "metadata": {},
     "output_type": "execute_result"
    }
   ],
   "source": [
    "X[0]"
   ]
  },
  {
   "cell_type": "code",
   "execution_count": 124,
   "metadata": {},
   "outputs": [
    {
     "data": {
      "text/plain": [
       "LinearRegression(copy_X=True, fit_intercept=True, n_jobs=None,\n",
       "         normalize=False)"
      ]
     },
     "execution_count": 124,
     "metadata": {},
     "output_type": "execute_result"
    }
   ],
   "source": [
    "reg = LinearRegression()\n",
    "reg.fit(X,y)"
   ]
  },
  {
   "cell_type": "code",
   "execution_count": 125,
   "metadata": {},
   "outputs": [],
   "source": [
    "y_pred = reg.predict(X)"
   ]
  },
  {
   "cell_type": "code",
   "execution_count": 126,
   "metadata": {},
   "outputs": [],
   "source": [
    "from sklearn.metrics import mean_squared_error"
   ]
  },
  {
   "cell_type": "code",
   "execution_count": 127,
   "metadata": {},
   "outputs": [
    {
     "data": {
      "text/plain": [
       "0.7290673608534863"
      ]
     },
     "execution_count": 127,
     "metadata": {},
     "output_type": "execute_result"
    }
   ],
   "source": [
    "mean_squared_error(y,y_pred)"
   ]
  },
  {
   "cell_type": "code",
   "execution_count": null,
   "metadata": {},
   "outputs": [],
   "source": []
  }
 ],
 "metadata": {
  "kernelspec": {
   "display_name": "Python 3",
   "language": "python",
   "name": "python3"
  },
  "language_info": {
   "codemirror_mode": {
    "name": "ipython",
    "version": 3
   },
   "file_extension": ".py",
   "mimetype": "text/x-python",
   "name": "python",
   "nbconvert_exporter": "python",
   "pygments_lexer": "ipython3",
   "version": "3.7.3"
  }
 },
 "nbformat": 4,
 "nbformat_minor": 2
}
