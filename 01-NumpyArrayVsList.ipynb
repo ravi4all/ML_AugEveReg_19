{
 "cells": [
  {
   "cell_type": "code",
   "execution_count": 1,
   "metadata": {},
   "outputs": [],
   "source": [
    "import numpy as np"
   ]
  },
  {
   "cell_type": "markdown",
   "metadata": {},
   "source": [
    "### Numpy Vs List"
   ]
  },
  {
   "cell_type": "code",
   "execution_count": 2,
   "metadata": {},
   "outputs": [],
   "source": [
    "# example of list\n",
    "x = [4,5,5,3,3,45.44,12.44,\"Ram\",\"Shyam\"]"
   ]
  },
  {
   "cell_type": "code",
   "execution_count": 9,
   "metadata": {},
   "outputs": [
    {
     "data": {
      "text/plain": [
       "array(['4', '5', '3', '3', 'True', '6', '8', '8', '45.44', 'hey'],\n",
       "      dtype='<U32')"
      ]
     },
     "execution_count": 9,
     "metadata": {},
     "output_type": "execute_result"
    }
   ],
   "source": [
    "# creating array with numpy\n",
    "# np.array([4,5,3,3,6,8,8,12.44])\n",
    "# np.array([4,5,3,3,True,6,8,8])\n",
    "# np.array([4,5,3,3,True,6,8,8,45.44])\n",
    "np.array([4,5,3,3,True,6,8,8,45.44,'hey'])"
   ]
  },
  {
   "cell_type": "code",
   "execution_count": 12,
   "metadata": {},
   "outputs": [],
   "source": [
    "# Memory difference in array and list\n",
    "import sys"
   ]
  },
  {
   "cell_type": "code",
   "execution_count": 13,
   "metadata": {},
   "outputs": [
    {
     "data": {
      "text/plain": [
       "64"
      ]
     },
     "execution_count": 13,
     "metadata": {},
     "output_type": "execute_result"
    }
   ],
   "source": [
    "sys.getsizeof(list())"
   ]
  },
  {
   "cell_type": "code",
   "execution_count": 15,
   "metadata": {},
   "outputs": [
    {
     "data": {
      "text/plain": [
       "96"
      ]
     },
     "execution_count": 15,
     "metadata": {},
     "output_type": "execute_result"
    }
   ],
   "source": [
    "sys.getsizeof(np.array([]))"
   ]
  },
  {
   "cell_type": "code",
   "execution_count": 18,
   "metadata": {},
   "outputs": [
    {
     "data": {
      "text/plain": [
       "900096"
      ]
     },
     "execution_count": 18,
     "metadata": {},
     "output_type": "execute_result"
    }
   ],
   "source": [
    "list_1 = list(range(1,100000))\n",
    "sys.getsizeof(list_1)"
   ]
  },
  {
   "cell_type": "code",
   "execution_count": 19,
   "metadata": {},
   "outputs": [
    {
     "data": {
      "text/plain": [
       "400108"
      ]
     },
     "execution_count": 19,
     "metadata": {},
     "output_type": "execute_result"
    }
   ],
   "source": [
    "list_1 = np.array([(range(1,100000))])\n",
    "sys.getsizeof(list_1)"
   ]
  },
  {
   "cell_type": "code",
   "execution_count": 23,
   "metadata": {},
   "outputs": [
    {
     "name": "stdout",
     "output_type": "stream",
     "text": [
      "Time Taken by list is 2.2968592643737793\n"
     ]
    }
   ],
   "source": [
    "# performance test in array and list\n",
    "import time\n",
    "\n",
    "list_1 = list(range(1,10000000))\n",
    "list_2 = list(range(1,10000000))\n",
    "\n",
    "list_3 = []\n",
    "\n",
    "start = time.time()\n",
    "\n",
    "for i in range(len(list_1)):\n",
    "    list_3.append(list_1[i] + list_2[i])\n",
    "\n",
    "end = time.time()\n",
    "total = end - start\n",
    "print(\"Time Taken by list is\",total)"
   ]
  },
  {
   "cell_type": "code",
   "execution_count": 24,
   "metadata": {},
   "outputs": [
    {
     "name": "stdout",
     "output_type": "stream",
     "text": [
      "Time Taken by list is 0.02991962432861328\n"
     ]
    }
   ],
   "source": [
    "arr_1 = np.array([range(1,10000000)])\n",
    "arr_2 = np.array([range(1,10000000)])\n",
    "\n",
    "start = time.time()\n",
    "\n",
    "arr_3 = arr_1 + arr_2\n",
    "\n",
    "end = time.time()\n",
    "total = end - start\n",
    "print(\"Time Taken by list is\",total)"
   ]
  },
  {
   "cell_type": "code",
   "execution_count": null,
   "metadata": {},
   "outputs": [],
   "source": []
  }
 ],
 "metadata": {
  "kernelspec": {
   "display_name": "Python 3",
   "language": "python",
   "name": "python3"
  },
  "language_info": {
   "codemirror_mode": {
    "name": "ipython",
    "version": 3
   },
   "file_extension": ".py",
   "mimetype": "text/x-python",
   "name": "python",
   "nbconvert_exporter": "python",
   "pygments_lexer": "ipython3",
   "version": "3.7.3"
  }
 },
 "nbformat": 4,
 "nbformat_minor": 2
}
